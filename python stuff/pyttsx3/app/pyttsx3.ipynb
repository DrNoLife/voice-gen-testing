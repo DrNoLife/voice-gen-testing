{
 "cells": [
  {
   "cell_type": "code",
   "execution_count": 8,
   "metadata": {},
   "outputs": [],
   "source": [
    "import pyttsx3\n",
    "\n",
    "def text_to_mp3(text, filename):\n",
    "    engine = pyttsx3.init()\n",
    "\n",
    "    # Get the current rate and volume\n",
    "    rate = engine.getProperty('rate')   # Speed percent (can go over 100)\n",
    "    volume = engine.getProperty('volume')  # Volume 0-1\n",
    "\n",
    "    # Set new rate and volume\n",
    "    engine.setProperty('rate', rate-35)     # Lower rate = slower speech\n",
    "    engine.setProperty('volume', volume+0.25)  # Try setting a higher volume\n",
    "\n",
    "    # Save to an mp3 file\n",
    "    engine.save_to_file(text, filename)\n",
    "    engine.runAndWait()\n",
    "\n",
    "text_to_mp3(\"> When I was 13 I got curious and started snooping my sister's room forunderwear and stuff.\\r\\n> she lived away at Uni and parents worked late 5o I had lots of time alone athome.\\r\\n> I had many faps with her underwear wrapped around my cock in her bed.\\r\\n> Eventually I started wearing them, and then soon after that bras too.\", 'output.mp3')\n"
   ]
  }
 ],
 "metadata": {
  "kernelspec": {
   "display_name": "Python 3",
   "language": "python",
   "name": "python3"
  },
  "language_info": {
   "codemirror_mode": {
    "name": "ipython",
    "version": 3
   },
   "file_extension": ".py",
   "mimetype": "text/x-python",
   "name": "python",
   "nbconvert_exporter": "python",
   "pygments_lexer": "ipython3",
   "version": "3.10.0"
  },
  "orig_nbformat": 4
 },
 "nbformat": 4,
 "nbformat_minor": 2
}
